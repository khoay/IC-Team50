{
 "cells": [
  {
   "cell_type": "markdown",
   "metadata": {
    "colab_type": "text",
    "id": "view-in-github"
   },
   "source": [
    "<a href=\"https://colab.research.google.com/github/khoay/IC-Team50/blob/main/FFMin_and_FFMax.ipynb\" target=\"_parent\"><img src=\"https://colab.research.google.com/assets/colab-badge.svg\" alt=\"Open In Colab\"/></a>"
   ]
  },
  {
   "cell_type": "code",
   "execution_count": 6,
   "metadata": {
    "colab": {
     "base_uri": "https://localhost:8080/"
    },
    "id": "4jWnl5K78RqS",
    "outputId": "453bd853-8208-446b-db45-08f6eebe1962"
   },
   "outputs": [
    {
     "name": "stdout",
     "output_type": "stream",
     "text": [
      "      FF_NDB  SR_NDB  food_category_id    FF Food description  \\\n",
      "0      16158   16158                16     Hummus, commercial   \n",
      "1      16158   16158                16     Hummus, commercial   \n",
      "2      16158   16158                16     Hummus, commercial   \n",
      "3      16158   16158                16     Hummus, commercial   \n",
      "4      16158   16158                16     Hummus, commercial   \n",
      "...      ...     ...               ...                    ...   \n",
      "4390    1267    1267                 1  Cheese, cotija, solid   \n",
      "4391    1267    1267                 1  Cheese, cotija, solid   \n",
      "4392    1267    1267                 1  Cheese, cotija, solid   \n",
      "4393    1267    1267                 1  Cheese, cotija, solid   \n",
      "4394    1267    1267                 1  Cheese, cotija, solid   \n",
      "\n",
      "                SR Food description  Nutrient_id   rank  \\\n",
      "0                Hummus, commercial         1090   5500   \n",
      "1                Hummus, commercial         1258   9700   \n",
      "2                Hummus, commercial         1089   5400   \n",
      "3                Hummus, commercial         1051    100   \n",
      "4                Hummus, commercial         1103   6200   \n",
      "...                             ...          ...    ...   \n",
      "4390  Cheese, mexican, queso cotija         1264  10500   \n",
      "4391  Cheese, mexican, queso cotija         1263  10300   \n",
      "4392  Cheese, mexican, queso cotija         1265  10700   \n",
      "4393  Cheese, mexican, queso cotija         1095   5900   \n",
      "4394  Cheese, mexican, queso cotija         1087   5300   \n",
      "\n",
      "                      FF_Component                  SR_Component unit_name  \\\n",
      "0                    Magnesium, Mg                 Magnesium, Mg        MG   \n",
      "1     Fatty acids, total saturated  Fatty acids, total saturated         G   \n",
      "2                         Iron, Fe                      Iron, Fe        MG   \n",
      "3                            Water                         Water         G   \n",
      "4                     Selenium, Se                  Selenium, Se        UG   \n",
      "...                            ...                           ...       ...   \n",
      "4390                      SFA 14:0                         14:00         G   \n",
      "4391                      SFA 12:0                         12:00         G   \n",
      "4392                      SFA 16:0                         16:00         G   \n",
      "4393                      Zinc, Zn                      Zinc, Zn        MG   \n",
      "4394                   Calcium, Ca                   Calcium, Ca        MG   \n",
      "\n",
      "      ...  SR Min  SR Max   Std_Error  SR Num_Data_pts  FF Mean per 100g  \\\n",
      "0     ...     NaN     NaN         NaN                2           71.1000   \n",
      "1     ...     NaN     NaN         NaN                0            2.2200   \n",
      "2     ...     NaN     NaN         NaN                2            2.4100   \n",
      "3     ...     NaN     NaN         NaN                2           58.7000   \n",
      "4     ...     NaN     NaN         NaN                0           16.2000   \n",
      "...   ...     ...     ...         ...              ...               ...   \n",
      "4390  ...     NaN     NaN         NaN                0            2.5720   \n",
      "4391  ...     NaN     NaN         NaN                0            0.8359   \n",
      "4392  ...     NaN     NaN         NaN                0            7.3910   \n",
      "4393  ...     NaN     NaN         NaN                0            3.5970   \n",
      "4394  ...     NaN     NaN         NaN                0          699.6000   \n",
      "\n",
      "       FF Min   FF Max  FF Median  FF data_points  FF Publication Date  \n",
      "0      56.600   82.000     70.400            11.0             4/1/2019  \n",
      "1         NaN      NaN        NaN             NaN             4/1/2019  \n",
      "2       1.870    2.960      2.330            11.0             4/1/2019  \n",
      "3      56.100   65.600     57.600            11.0             4/1/2019  \n",
      "4       0.000   32.300     16.200             2.0             4/1/2019  \n",
      "...       ...      ...        ...             ...                  ...  \n",
      "4390    1.949    3.314      2.426             7.0           10/19/2023  \n",
      "4391    0.614    1.071      0.827             7.0           10/19/2023  \n",
      "4392    5.375    9.535      6.924             7.0           10/19/2023  \n",
      "4393    3.370    3.860      3.620             7.0           10/19/2023  \n",
      "4394  358.000  855.000    751.000             7.0           10/19/2023  \n",
      "\n",
      "[4395 rows x 21 columns]\n"
     ]
    }
   ],
   "source": [
    "import pandas as pd\n",
    "import numpy as np\n",
    "file_path = 'FF_SR_ data.csv'\n",
    "df = pd.read_csv(file_path)\n",
    "print(df)\n"
   ]
  },
  {
   "cell_type": "code",
   "execution_count": 7,
   "metadata": {
    "colab": {
     "base_uri": "https://localhost:8080/"
    },
    "id": "xqFHxImZ9Xrd",
    "outputId": "b2363608-23ba-41aa-e0c0-7ec90ee9f818"
   },
   "outputs": [
    {
     "name": "stdout",
     "output_type": "stream",
     "text": [
      "      FF_NDB  SR_NDB  food_category_id    FF Food description  \\\n",
      "0      16158   16158                16     Hummus, commercial   \n",
      "2      16158   16158                16     Hummus, commercial   \n",
      "3      16158   16158                16     Hummus, commercial   \n",
      "4      16158   16158                16     Hummus, commercial   \n",
      "7      16158   16158                16     Hummus, commercial   \n",
      "...      ...     ...               ...                    ...   \n",
      "4390    1267    1267                 1  Cheese, cotija, solid   \n",
      "4391    1267    1267                 1  Cheese, cotija, solid   \n",
      "4392    1267    1267                 1  Cheese, cotija, solid   \n",
      "4393    1267    1267                 1  Cheese, cotija, solid   \n",
      "4394    1267    1267                 1  Cheese, cotija, solid   \n",
      "\n",
      "                SR Food description  Nutrient_id   rank      FF_Component  \\\n",
      "0                Hummus, commercial         1090   5500     Magnesium, Mg   \n",
      "2                Hummus, commercial         1089   5400          Iron, Fe   \n",
      "3                Hummus, commercial         1051    100             Water   \n",
      "4                Hummus, commercial         1103   6200      Selenium, Se   \n",
      "7                Hummus, commercial         1170   6700  Pantothenic acid   \n",
      "...                             ...          ...    ...               ...   \n",
      "4390  Cheese, mexican, queso cotija         1264  10500          SFA 14:0   \n",
      "4391  Cheese, mexican, queso cotija         1263  10300          SFA 12:0   \n",
      "4392  Cheese, mexican, queso cotija         1265  10700          SFA 16:0   \n",
      "4393  Cheese, mexican, queso cotija         1095   5900          Zinc, Zn   \n",
      "4394  Cheese, mexican, queso cotija         1087   5300       Calcium, Ca   \n",
      "\n",
      "          SR_Component unit_name  ...  SR Min  SR Max   Std_Error  \\\n",
      "0        Magnesium, Mg        MG  ...     NaN     NaN         NaN   \n",
      "2             Iron, Fe        MG  ...     NaN     NaN         NaN   \n",
      "3                Water         G  ...     NaN     NaN         NaN   \n",
      "4         Selenium, Se        UG  ...     NaN     NaN         NaN   \n",
      "7     Pantothenic acid        MG  ...     NaN     NaN         NaN   \n",
      "...                ...       ...  ...     ...     ...         ...   \n",
      "4390             14:00         G  ...     NaN     NaN         NaN   \n",
      "4391             12:00         G  ...     NaN     NaN         NaN   \n",
      "4392             16:00         G  ...     NaN     NaN         NaN   \n",
      "4393          Zinc, Zn        MG  ...     NaN     NaN         NaN   \n",
      "4394       Calcium, Ca        MG  ...     NaN     NaN         NaN   \n",
      "\n",
      "      SR Num_Data_pts  FF Mean per 100g   FF Min   FF Max  FF Median  \\\n",
      "0                   2           71.1000   56.600   82.000     70.400   \n",
      "2                   2            2.4100    1.870    2.960      2.330   \n",
      "3                   2           58.7000   56.100   65.600     57.600   \n",
      "4                   0           16.2000    0.000   32.300     16.200   \n",
      "7                   2            0.3180    0.260    0.370      0.320   \n",
      "...               ...               ...      ...      ...        ...   \n",
      "4390                0            2.5720    1.949    3.314      2.426   \n",
      "4391                0            0.8359    0.614    1.071      0.827   \n",
      "4392                0            7.3910    5.375    9.535      6.924   \n",
      "4393                0            3.5970    3.370    3.860      3.620   \n",
      "4394                0          699.6000  358.000  855.000    751.000   \n",
      "\n",
      "      FF data_points  FF Publication Date  \n",
      "0               11.0             4/1/2019  \n",
      "2               11.0             4/1/2019  \n",
      "3               11.0             4/1/2019  \n",
      "4                2.0             4/1/2019  \n",
      "7                4.0             4/1/2019  \n",
      "...              ...                  ...  \n",
      "4390             7.0           10/19/2023  \n",
      "4391             7.0           10/19/2023  \n",
      "4392             7.0           10/19/2023  \n",
      "4393             7.0           10/19/2023  \n",
      "4394             7.0           10/19/2023  \n",
      "\n",
      "[3842 rows x 21 columns]\n"
     ]
    }
   ],
   "source": [
    "# df.fillna(0, inplace=True)\n",
    "df.dropna(subset=['FF Min', 'FF Max'], inplace=True)\n",
    "print(df)"
   ]
  },
  {
   "cell_type": "code",
   "execution_count": 8,
   "metadata": {
    "colab": {
     "base_uri": "https://localhost:8080/"
    },
    "id": "xJHtgnqmEFca",
    "outputId": "a05083c9-a07a-4d8b-f356-80377603b539"
   },
   "outputs": [
    {
     "name": "stdout",
     "output_type": "stream",
     "text": [
      "      FF_NDB  SR_NDB  food_category_id              FF Food description  \\\n",
      "0      16158   16158                16               Hummus, commercial   \n",
      "2      16158   16158                16               Hummus, commercial   \n",
      "3      16158   16158                16               Hummus, commercial   \n",
      "4      16158   16158                16               Hummus, commercial   \n",
      "7      16158   16158                16               Hummus, commercial   \n",
      "...      ...     ...               ...                              ...   \n",
      "1705    1123    1123                 1  Eggs, Grade A, Large, egg whole   \n",
      "1709    1123    1123                 1  Eggs, Grade A, Large, egg whole   \n",
      "1710    1123    1123                 1  Eggs, Grade A, Large, egg whole   \n",
      "1711    1123    1123                 1  Eggs, Grade A, Large, egg whole   \n",
      "1712    1123    1123                 1  Eggs, Grade A, Large, egg whole   \n",
      "\n",
      "         SR Food description  Nutrient_id   rank      FF_Component  \\\n",
      "0         Hummus, commercial         1090   5500     Magnesium, Mg   \n",
      "2         Hummus, commercial         1089   5400          Iron, Fe   \n",
      "3         Hummus, commercial         1051    100             Water   \n",
      "4         Hummus, commercial         1103   6200      Selenium, Se   \n",
      "7         Hummus, commercial         1170   6700  Pantothenic acid   \n",
      "...                      ...          ...    ...               ...   \n",
      "1705  Egg, whole, raw, fresh         1218  17100          Tyrosine   \n",
      "1709  Egg, whole, raw, fresh         1091   5600     Phosphorus, P   \n",
      "1710  Egg, whole, raw, fresh         1093   5800        Sodium, Na   \n",
      "1711  Egg, whole, raw, fresh         1221  17400         Histidine   \n",
      "1712  Egg, whole, raw, fresh         1013   1900           Lactose   \n",
      "\n",
      "          SR_Component unit_name  ...  SR Min  SR Max   Std_Error  \\\n",
      "0        Magnesium, Mg        MG  ...     NaN     NaN         NaN   \n",
      "2             Iron, Fe        MG  ...     NaN     NaN         NaN   \n",
      "3                Water         G  ...     NaN     NaN         NaN   \n",
      "4         Selenium, Se        UG  ...     NaN     NaN         NaN   \n",
      "7     Pantothenic acid        MG  ...     NaN     NaN         NaN   \n",
      "...                ...       ...  ...     ...     ...         ...   \n",
      "1705          Tyrosine         G  ...     NaN     NaN         NaN   \n",
      "1709     Phosphorus, P        MG  ...   193.0   205.0       1.939   \n",
      "1710        Sodium, Na        MG  ...   139.0   147.0       1.138   \n",
      "1711         Histidine         G  ...     NaN     NaN         NaN   \n",
      "1712           Lactose         G  ...     0.0     0.0       0.000   \n",
      "\n",
      "      SR Num_Data_pts  FF Mean per 100g  FF Min  FF Max  FF Median  \\\n",
      "0                   2            71.100   56.60   82.00      70.40   \n",
      "2                   2             2.410    1.87    2.96       2.33   \n",
      "3                   2            58.700   56.10   65.60      57.60   \n",
      "4                   0            16.200    0.00   32.30      16.20   \n",
      "7                   2             0.318    0.26    0.37       0.32   \n",
      "...               ...               ...     ...     ...        ...   \n",
      "1705                0             0.512    0.47    0.55       0.51   \n",
      "1709                6           184.000  169.00  196.00     183.00   \n",
      "1710                6           129.000  117.00  140.00     129.00   \n",
      "1711                0             0.283    0.25    0.33       0.28   \n",
      "1712                6             0.000    0.00    0.00       0.00   \n",
      "\n",
      "      FF data_points  FF Publication Date  \n",
      "0               11.0           2019-04-01  \n",
      "2               11.0           2019-04-01  \n",
      "3               11.0           2019-04-01  \n",
      "4                2.0           2019-04-01  \n",
      "7                4.0           2019-04-01  \n",
      "...              ...                  ...  \n",
      "1705            17.0           2019-12-16  \n",
      "1709            22.0           2019-12-16  \n",
      "1710            22.0           2019-12-16  \n",
      "1711            17.0           2019-12-16  \n",
      "1712             3.0           2019-12-16  \n",
      "\n",
      "[1369 rows x 21 columns]\n"
     ]
    }
   ],
   "source": [
    "df['FF Publication Date'] = pd.to_datetime(df['FF Publication Date'], errors='coerce')\n",
    "df_2019 = df[df['FF Publication Date'].dt.year == 2019]\n",
    "print(df_2019)"
   ]
  },
  {
   "cell_type": "code",
   "execution_count": 9,
   "metadata": {
    "colab": {
     "base_uri": "https://localhost:8080/"
    },
    "id": "528Z2juHyqfL",
    "outputId": "993218d6-a0cd-40b3-e8f6-a89391b3b0c8"
   },
   "outputs": [
    {
     "ename": "AttributeError",
     "evalue": "'DataFrame' object has no attribute 'append'",
     "output_type": "error",
     "traceback": [
      "\u001b[0;31m---------------------------------------------------------------------------\u001b[0m",
      "\u001b[0;31mAttributeError\u001b[0m                            Traceback (most recent call last)",
      "\u001b[0;32m/var/folders/wr/cdyywg6x2rx26m9s_41pb2800000gn/T/ipykernel_53746/882498921.py\u001b[0m in \u001b[0;36m?\u001b[0;34m()\u001b[0m\n\u001b[1;32m      7\u001b[0m \u001b[0;34m\u001b[0m\u001b[0m\n\u001b[1;32m      8\u001b[0m \u001b[0mnot_between_df\u001b[0m \u001b[0;34m=\u001b[0m \u001b[0mpd\u001b[0m\u001b[0;34m.\u001b[0m\u001b[0mDataFrame\u001b[0m\u001b[0;34m(\u001b[0m\u001b[0mcolumns\u001b[0m\u001b[0;34m=\u001b[0m\u001b[0mdf\u001b[0m\u001b[0;34m.\u001b[0m\u001b[0mcolumns\u001b[0m\u001b[0;34m)\u001b[0m\u001b[0;34m\u001b[0m\u001b[0;34m\u001b[0m\u001b[0m\n\u001b[1;32m      9\u001b[0m \u001b[0;34m\u001b[0m\u001b[0m\n\u001b[1;32m     10\u001b[0m \u001b[0;31m# Iterate through each row\u001b[0m\u001b[0;34m\u001b[0m\u001b[0;34m\u001b[0m\u001b[0;34m\u001b[0m\u001b[0m\n\u001b[0;32m---> 11\u001b[0;31m \u001b[0;32mfor\u001b[0m \u001b[0mindex\u001b[0m\u001b[0;34m,\u001b[0m \u001b[0mrow\u001b[0m \u001b[0;32min\u001b[0m \u001b[0mdf\u001b[0m\u001b[0;34m.\u001b[0m\u001b[0miterrows\u001b[0m\u001b[0;34m(\u001b[0m\u001b[0;34m)\u001b[0m\u001b[0;34m:\u001b[0m\u001b[0;34m\u001b[0m\u001b[0;34m\u001b[0m\u001b[0m\n\u001b[0m\u001b[1;32m     12\u001b[0m     \u001b[0;32mif\u001b[0m \u001b[0mrow\u001b[0m\u001b[0;34m[\u001b[0m\u001b[0;34m'FF Min'\u001b[0m\u001b[0;34m]\u001b[0m \u001b[0;34m<=\u001b[0m \u001b[0mrow\u001b[0m\u001b[0;34m[\u001b[0m\u001b[0;34m'SR Mean per 100g'\u001b[0m\u001b[0;34m]\u001b[0m \u001b[0;34m<=\u001b[0m \u001b[0mrow\u001b[0m\u001b[0;34m[\u001b[0m\u001b[0;34m'FF Max'\u001b[0m\u001b[0;34m]\u001b[0m\u001b[0;34m:\u001b[0m\u001b[0;34m\u001b[0m\u001b[0;34m\u001b[0m\u001b[0m\n\u001b[1;32m     13\u001b[0m         \u001b[0mcounter\u001b[0m \u001b[0;34m+=\u001b[0m \u001b[0;36m1\u001b[0m\u001b[0;34m\u001b[0m\u001b[0;34m\u001b[0m\u001b[0m\n\u001b[1;32m     14\u001b[0m     \u001b[0;32melse\u001b[0m\u001b[0;34m:\u001b[0m\u001b[0;34m\u001b[0m\u001b[0;34m\u001b[0m\u001b[0m\n",
      "\u001b[0;32m/Library/Frameworks/Python.framework/Versions/3.8/lib/python3.8/site-packages/pandas/core/generic.py\u001b[0m in \u001b[0;36m?\u001b[0;34m(self, name)\u001b[0m\n\u001b[1;32m   5985\u001b[0m             \u001b[0;32mand\u001b[0m \u001b[0mname\u001b[0m \u001b[0;32mnot\u001b[0m \u001b[0;32min\u001b[0m \u001b[0mself\u001b[0m\u001b[0;34m.\u001b[0m\u001b[0m_accessors\u001b[0m\u001b[0;34m\u001b[0m\u001b[0;34m\u001b[0m\u001b[0m\n\u001b[1;32m   5986\u001b[0m             \u001b[0;32mand\u001b[0m \u001b[0mself\u001b[0m\u001b[0;34m.\u001b[0m\u001b[0m_info_axis\u001b[0m\u001b[0;34m.\u001b[0m\u001b[0m_can_hold_identifiers_and_holds_name\u001b[0m\u001b[0;34m(\u001b[0m\u001b[0mname\u001b[0m\u001b[0;34m)\u001b[0m\u001b[0;34m\u001b[0m\u001b[0;34m\u001b[0m\u001b[0m\n\u001b[1;32m   5987\u001b[0m         ):\n\u001b[1;32m   5988\u001b[0m             \u001b[0;32mreturn\u001b[0m \u001b[0mself\u001b[0m\u001b[0;34m[\u001b[0m\u001b[0mname\u001b[0m\u001b[0;34m]\u001b[0m\u001b[0;34m\u001b[0m\u001b[0;34m\u001b[0m\u001b[0m\n\u001b[0;32m-> 5989\u001b[0;31m         \u001b[0;32mreturn\u001b[0m \u001b[0mobject\u001b[0m\u001b[0;34m.\u001b[0m\u001b[0m__getattribute__\u001b[0m\u001b[0;34m(\u001b[0m\u001b[0mself\u001b[0m\u001b[0;34m,\u001b[0m \u001b[0mname\u001b[0m\u001b[0;34m)\u001b[0m\u001b[0;34m\u001b[0m\u001b[0;34m\u001b[0m\u001b[0m\n\u001b[0m",
      "\u001b[0;31mAttributeError\u001b[0m: 'DataFrame' object has no attribute 'append'"
     ]
    }
   ],
   "source": [
    "counter = 0\n",
    "\n",
    "not_between_df = pd.DataFrame(columns=df.columns)\n",
    "\n",
    "# Iterate through each row\n",
    "for index, row in df.iterrows():\n",
    "    if row['FF Min'] <= row['SR Mean per 100g'] <= row['FF Max']:\n",
    "        counter += 1\n",
    "    else:\n",
    "        # Append rows not between FF Min and FF Max to the new DataFrame\n",
    "        not_between_df = not_between_df.append(row, ignore_index=True)\n",
    "\n",
    "num_rows = df.shape[0]\n",
    "# Display the counter value\n",
    "print(f\"The number of rows where SR Mean is between FF Min and FF Max is: {counter} out of {num_rows}\")\n",
    "\n",
    "# Display the new DataFrame with rows not between FF Min and FF Max\n",
    "print(\"\\nRows not between FF Min and FF Max:\")\n",
    "print(not_between_df)\n",
    "output_file_path = 'not_between_FFMin_&_FFMax_df.csv'\n",
    "not_between_df.to_csv(output_file_path, index=False)\n",
    "\n",
    "#the number of rows with no value for FFMin/FFMax is 1849 - 1337"
   ]
  },
  {
   "cell_type": "code",
   "execution_count": null,
   "metadata": {},
   "outputs": [],
   "source": []
  },
  {
   "cell_type": "code",
   "execution_count": null,
   "metadata": {},
   "outputs": [],
   "source": []
  }
 ],
 "metadata": {
  "colab": {
   "authorship_tag": "ABX9TyMWYnBAj1h+1mK05EqT5PHw",
   "include_colab_link": true,
   "provenance": []
  },
  "kernelspec": {
   "display_name": "Python 3 (ipykernel)",
   "language": "python",
   "name": "python3"
  },
  "language_info": {
   "codemirror_mode": {
    "name": "ipython",
    "version": 3
   },
   "file_extension": ".py",
   "mimetype": "text/x-python",
   "name": "python",
   "nbconvert_exporter": "python",
   "pygments_lexer": "ipython3",
   "version": "3.8.2"
  }
 },
 "nbformat": 4,
 "nbformat_minor": 4
}
